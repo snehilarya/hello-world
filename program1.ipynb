{
 "cells": [
  {
   "cell_type": "code",
   "execution_count": 1,
   "metadata": {},
   "outputs": [
    {
     "name": "stdout",
     "output_type": "stream",
     "text": [
      "7\n",
      "4\n",
      "The training data is as follows\n",
      "     sky airtemp humidity    wind water forecast enjoysport\n",
      "0  Sunny    Warm   Normal  Strong  Warm     Same        Yes\n",
      "1  Sunny    Warm     High  Strong  Warm     Same        Yes\n",
      "2  Rainy    Cold     High  Strong  Warm   Change         No\n",
      "3  Sunny    Warm     High  Strong  Cool   Change        Yes\n",
      "\n",
      "The most general hypothesis : ['?','?','?','?','?','?']\n",
      "\n",
      "The most specific hypothesis : ['0', '0', '0', '0', '0', '0'] \n",
      "\n",
      "Positive samples are \n",
      "  [['Sunny', 'Warm', 'Normal', 'Strong', 'Warm', 'Same'], ['Sunny', 'Warm', 'High', 'Strong', 'Warm', 'Same'], ['Sunny', 'Warm', 'High', 'Strong', 'Cool', 'Change']]\n",
      "Negative samples are \n",
      "  [['Rainy', 'Cold', 'High', 'Strong', 'Warm', 'Change']]\n",
      "\n",
      "For Training example  0 the hypothesis is  ['Sunny', 'Warm', 'Normal', 'Strong', 'Warm', 'Same']\n",
      "\n",
      "For Training example  1 the hypothesis is  ['Sunny', 'Warm', '?', 'Strong', 'Warm', 'Same']\n",
      "\n",
      "For Training example  2 the hypothesis is  ['Sunny', 'Warm', '?', 'Strong', '?', '?']\n",
      "\n",
      " The Maximally Specific Hypothesis for a given Training Examples :\n",
      "\n",
      "['Sunny', 'Warm', '?', 'Strong', '?', '?']\n"
     ]
    }
   ],
   "source": [
    "import pandas as pd\n",
    "import csv\n",
    "\n",
    "traindata=pd.read_csv(\"trainingdata.csv\")\n",
    "\n",
    "cols=traindata.shape[1]\n",
    "rows=traindata.shape[0]\n",
    "print(cols)\n",
    "print(rows)\n",
    "\n",
    "print(\"The training data is as follows\")\n",
    "print(traindata)\n",
    "print (\"\\nThe most general hypothesis : ['?','?','?','?','?','?']\\n\")\n",
    "h=['0','0','0','0','0','0']\n",
    "print (\"The most specific hypothesis :\",h,\"\\n\")\n",
    "\n",
    "\n",
    "positivesample=[]\n",
    "negativesample=[]\n",
    "\n",
    "for i in range(rows):\n",
    "    trainsample=[]\n",
    "    trainsample.append(traindata.sky[i])\n",
    "    trainsample.append(traindata.airtemp[i])\n",
    "    trainsample.append(traindata.humidity[i])\n",
    "    trainsample.append(traindata.wind[i])\n",
    "    trainsample.append(traindata.water[i])\n",
    "    trainsample.append(traindata.forecast[i])\n",
    "    if(traindata.enjoysport[i]!='No'):\n",
    "        positivesample.append(trainsample)\n",
    "    else:\n",
    "        negativesample.append(trainsample)\n",
    "\n",
    "print(\"Positive samples are \\n \", positivesample)\n",
    "print(\"Negative samples are \\n \", negativesample)\n",
    "\n",
    "for i in range(len(positivesample)):\n",
    "    for j in range(cols-1):\n",
    "        if h[j]=='0':\n",
    "            h[j]=positivesample[i][j]\n",
    "        if h[j]!=positivesample[i][j]:\n",
    "            h[j]='?'\n",
    "        else:\n",
    "            h[j]=positivesample[i][j]\n",
    "    print(\"\\nFor Training example \", i ,\"the hypothesis is \" , h)\n",
    "print(\"\\n The Maximally Specific Hypothesis for a given Training Examples :\\n\")\n",
    "print(h)\n"
   ]
  },
  {
   "cell_type": "code",
   "execution_count": null,
   "metadata": {},
   "outputs": [],
   "source": []
  },
  {
   "cell_type": "code",
   "execution_count": null,
   "metadata": {},
   "outputs": [],
   "source": []
  }
 ],
 "metadata": {
  "kernelspec": {
   "display_name": "Python 3",
   "language": "python",
   "name": "python3"
  },
  "language_info": {
   "codemirror_mode": {
    "name": "ipython",
    "version": 3
   },
   "file_extension": ".py",
   "mimetype": "text/x-python",
   "name": "python",
   "nbconvert_exporter": "python",
   "pygments_lexer": "ipython3",
   "version": "3.7.3"
  }
 },
 "nbformat": 4,
 "nbformat_minor": 2
}
